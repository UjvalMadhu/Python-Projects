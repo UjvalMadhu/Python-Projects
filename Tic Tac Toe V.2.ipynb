{
 "cells": [
  {
   "cell_type": "markdown",
   "metadata": {},
   "source": [
    "# Tic Tac Toe Game"
   ]
  },
  {
   "cell_type": "markdown",
   "metadata": {},
   "source": [
    "This is a simple game that was created using python and can be run on any python development environment. This does not have any graphical user interface and the game is played in the output section of the builder.It uses for and while loops, if statements and function defnitions and calls.\n",
    "\n",
    "#### AIM:\n",
    "The aim of the game is to get three consecutive markings in vertical, horizontal or diagonal directions in a 3X3 table.\n",
    "Each player gets alternates chances and the first one to do so wins the game.\n",
    "\n",
    "#### Modes:\n",
    "The game is designed to be played in single-player (against computer) or double-player modes.\n",
    "\n",
    "\n",
    "##### Step 1:\n",
    "We start by importing the clear_output and random modules."
   ]
  },
  {
   "cell_type": "code",
   "execution_count": null,
   "metadata": {},
   "outputs": [],
   "source": [
    "from IPython.display import clear_output\n",
    "import random"
   ]
  },
  {
   "cell_type": "markdown",
   "metadata": {},
   "source": [
    "##### Step 2:\n",
    "Defining the functions that will be used in the game.\n",
    "\n",
    "The following code creates two tables one indicating the Available Moves that a player can choose from and the other is \n",
    "the Game Board, where the markers are placed.\n",
    "\n",
    "The spaces in the two tables can be filled using suitable variable assignment\n"
   ]
  },
  {
   "cell_type": "code",
   "execution_count": null,
   "metadata": {},
   "outputs": [],
   "source": [
    "def display_grid(a,b):\n",
    "    clear_output()\n",
    "    print(\"Available Moves      |        Game Board\\n\\n  {9} | {10} | {11}          |        {0} | {1} | {2} \\n--------------       |      --------------\\n \\\n",
    " {12} | {13} | {14}          |        {3} | {4} | {5} \\n--------------       |      --------------\\n  {15} | {16} | {17}          |        {6} | {7} | {8} \\\n",
    "\".format(a[0],a[1],a[2],a[3],a[4],a[5],a[6],a[7],a[8],b[0],b[1],b[2],b[3],b[4],b[5],b[6],b[7],b[8]))\n"
   ]
  },
  {
   "cell_type": "markdown",
   "metadata": {},
   "source": [
    "The grid_check function is used for checking if a player has got three consecutive values right. This is done by checking all possible cominations and returning true if any one has been achieved."
   ]
  },
  {
   "cell_type": "code",
   "execution_count": null,
   "metadata": {},
   "outputs": [],
   "source": [
    "def grid_check(a,pm):\n",
    "    return((a[0]==a[1]==a[2]==pm) or\\\n",
    "           (a[3]==a[4]==a[5]==pm) or\\\n",
    "           (a[6]==a[7]==a[8]==pm) or\\\n",
    "           (a[0]==a[4]==a[8]==pm) or\\\n",
    "           (a[0]==a[3]==a[6]==pm) or\\\n",
    "           (a[1]==a[4]==a[7]==pm) or\\\n",
    "           (a[2]==a[4]==a[6]==pm) or\\\n",
    "           (a[2]==a[5]==a[8]==pm))"
   ]
  },
  {
   "cell_type": "markdown",
   "metadata": {},
   "source": [
    "The game_status function is used for choosing single-player or double-player modes"
   ]
  },
  {
   "cell_type": "code",
   "execution_count": null,
   "metadata": {},
   "outputs": [],
   "source": [
    "def game_status():\n",
    "    while True:\n",
    "        try:\n",
    "            status = int(input(\"\\nSelect Mode: Single Player or Double Player:\\nEnter 1 or 2 : \"))\n",
    "            if status == 1 or status == 2:\n",
    "                print(\"\\nYou have selected {} player mode.\\n\".format(status))\n",
    "                return status\n",
    "            else:\n",
    "                print(\"\\nPlease enter a valid option.\\n\")\n",
    "        except:\n",
    "            print(\"Enter a Valid Option.\")\n"
   ]
  },
  {
   "cell_type": "markdown",
   "metadata": {},
   "source": [
    "The player_marker function is used to choose the markers \"X\" or \"O\" by the players."
   ]
  },
  {
   "cell_type": "code",
   "execution_count": null,
   "metadata": {},
   "outputs": [],
   "source": [
    "def player_marker(players):\n",
    "    \n",
    "    if players == 1:                                                        # The mode is single-player.\n",
    "        while True:\n",
    "            marker = str(input(\"\\nSelect your Marker X or O: \").upper())\n",
    "            if marker == \"X\" or marker ==\"O\":\n",
    "                print(\"\\nYou have selected {}\".format(marker))\n",
    "                return marker\n",
    "            else:\n",
    "                print(\"\\nPlease enter valid marker.\\n\")\n",
    "                \n",
    "    elif players == 2:                                                      # The player mode is double-player1\n",
    "        while True:\n",
    "            marker= input(\"\\nPlayer 1 choose your marker: X or O\").upper()\n",
    "            if marker == \"X\":\n",
    "                print(\"Player 1: X\\nPlayer 2: O\")\n",
    "                return marker\n",
    "            elif marker == \"O\":\n",
    "                print(\"Player 1: O\\nPlayer 2: X\")\n",
    "                return marker\n",
    "            else:\n",
    "                print(\"\\nPlease Enter valid Marker.\")\n",
    "    "
   ]
  },
  {
   "cell_type": "markdown",
   "metadata": {},
   "source": [
    "The game_play function is the core working of the game. The two input variables 'p1m' and 'gs' indicate the the player 1 marker and game-mode respectively."
   ]
  },
  {
   "cell_type": "code",
   "execution_count": null,
   "metadata": {},
   "outputs": [],
   "source": [
    "def game_play(p1m,gs):\n",
    "    input(\"Hit 'Enter' to start the game.\")\n",
    "    a = [\" \"]*10                                                              # \"a\" for Displaying Player marker positions\n",
    "    b = [0,1,2,3,4,5,6,7,8]                                                   # \"b\" for Displaying available positions\n",
    "    moves = []                                                                # \"moves\" for holding played positions\n",
    "   \n",
    "    display_grid(a,b)\n",
    "    \n",
    "    if p1m == \"X\":                                                            # 'First' variable for making 'X' go first.\n",
    "        first = 1\n",
    "        p2m =\"O\"\n",
    "    elif p1m == \"O\":\n",
    "        first = 0\n",
    "        p2m =\"X\"  \n",
    "    \n",
    "    while True:\n",
    "        \n",
    "        if first == 1:\n",
    "  \n",
    "            while True:                                                       # Player 1 Enters Marker\n",
    "                m =int(input(\" \\n Player 1,Please enter your position: \"))\n",
    "                if m not in moves and m in range(0,9):\n",
    "                    a[m] = p1m\n",
    "                    b[m] = \" \"\n",
    "                    moves.append(m)\n",
    "                    break\n",
    "                else:\n",
    "                    print(\"Enter a valid move. Check Available Moves.\")\n",
    "        \n",
    "        first = 1                                                               # Bypassing 'Fisrt'\n",
    "        display_grid(a,b)                                                       # Displaying Markers\n",
    "        \n",
    "        if len(moves) >= 5:                                                     # Checking Game Result\n",
    "            if grid_check(a,p1m) == True:\n",
    "                print(\"\\n Player 1 Wins!!!\")\n",
    "                break\n",
    "            elif grid_check(a,p2m) == True and gs == 1:\n",
    "                print(\"\\nSystem Wins!!\")\n",
    "                break\n",
    "            elif grid_check(a,p2m) == True and gs == 2:\n",
    "                print(\"\\n Player 2 wins!!\")\n",
    "            elif len(moves) == 9:\n",
    "                print(\"\\nThe Match is a Tie\")\n",
    "                break\n",
    "            elif len(moves)>9:\n",
    "                break\n",
    "        \n",
    "        while True:\n",
    "            \n",
    "            if gs ==1:                                                         # System Plays\n",
    "                sm = random.randint(0,8)\n",
    "                if sm not in moves:\n",
    "                    a[sm] = p2m\n",
    "                    b[sm] = \" \"\n",
    "                    moves.append(sm)\n",
    "                    break\n",
    "                elif len(moves)>8:\n",
    "                    break\n",
    "            \n",
    "            elif gs == 2:                                                      # Player 2 Enters Marker\n",
    "                m2= int(input(\"\\n Player 2, Please enter your position: \"))\n",
    "                if m2 not in moves and m2 in range(0,9):\n",
    "                    a[m2] = p2m\n",
    "                    b[m2] = \" \"\n",
    "                    moves.append(m2)\n",
    "                    break\n",
    "                else:\n",
    "                    print(\"Enter a valid move. Check Available Moves.\")\n",
    "                    \n",
    "                \n",
    "        display_grid(a,b)                                                       # Displaying Markers\n",
    "        \n",
    "        if len(moves) >= 5:                                                     # Checking Game Result\n",
    "            if grid_check(a,p1m) == True:\n",
    "                print(\"\\n Player 1 Wins!!!\")\n",
    "                break\n",
    "            elif grid_check(a,p2m) == True and gs == 1:\n",
    "                print(\"\\nSystem Wins!!\")\n",
    "                break\n",
    "            elif grid_check(a,p2m) == True and gs == 2:\n",
    "                print(\"\\n Player 2 wins!!\")\n",
    "                break\n",
    "            elif len(moves) == 9:\n",
    "                print(\"\\nThe Match is a Tie\")\n",
    "                break\n",
    "            elif len(moves)>9:\n",
    "                break\n",
    "        "
   ]
  },
  {
   "cell_type": "markdown",
   "metadata": {},
   "source": [
    "##### Step 3:\n",
    "\n",
    "Finally, the gameplay() function is how the game is played, it calls all the functions and puts together the whole code."
   ]
  },
  {
   "cell_type": "code",
   "execution_count": null,
   "metadata": {},
   "outputs": [],
   "source": [
    "def gameplay():\n",
    "    print(\"Welcome to Tic Tac Toe!!!\")\n",
    "    input(\"Hit Enter to Play\")\n",
    "    while True:\n",
    "        players= game_status()\n",
    "        p1m = player_marker(players)\n",
    "        \n",
    "        game_play(p1m,players)\n",
    "\n",
    "        if input(\"Do you wish to continue? Y/N: \").upper() == 'N':\n",
    "            break"
   ]
  },
  {
   "cell_type": "code",
   "execution_count": null,
   "metadata": {},
   "outputs": [],
   "source": [
    "gameplay()"
   ]
  },
  {
   "cell_type": "markdown",
   "metadata": {},
   "source": [
    "## The End, and thank you for checking this out."
   ]
  },
  {
   "cell_type": "code",
   "execution_count": null,
   "metadata": {},
   "outputs": [],
   "source": []
  }
 ],
 "metadata": {
  "kernelspec": {
   "display_name": "Python 3",
   "language": "python",
   "name": "python3"
  },
  "language_info": {
   "codemirror_mode": {
    "name": "ipython",
    "version": 3
   },
   "file_extension": ".py",
   "mimetype": "text/x-python",
   "name": "python",
   "nbconvert_exporter": "python",
   "pygments_lexer": "ipython3",
   "version": "3.7.4"
  }
 },
 "nbformat": 4,
 "nbformat_minor": 2
}
